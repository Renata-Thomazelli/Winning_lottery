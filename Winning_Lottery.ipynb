{
 "cells": [
  {
   "cell_type": "code",
   "execution_count": 2,
   "metadata": {},
   "outputs": [],
   "source": [
    "import random"
   ]
  },
  {
   "cell_type": "code",
   "execution_count": 4,
   "metadata": {},
   "outputs": [
    {
     "name": "stdout",
     "output_type": "stream",
     "text": [
      "['R', 2, 'T', 4]\n",
      " I have tried 39231 times until I win this game\n"
     ]
    }
   ],
   "source": [
    "#this is my ticket\n",
    "my_ticket = ['R',2,'T',4]\n",
    "\n",
    "\n",
    "winners_first=[]\n",
    "#with a counter we can counte how many times we've tried until we win.\n",
    "counter=0\n",
    "while my_ticket != winners_first:\n",
    "    #these are the numbers that will run in this lottery.\n",
    "    tp=(1,2,3,4,5,6,7,8,9,10,\"R\",\"E\",\"N\",\"T\",\"A\")\n",
    "    winners_first=[random.choice(tp) for _ in range(4)]\n",
    "    if winners_first != my_ticket:\n",
    "        counter = counter + 1\n",
    "print(winners_first)\n",
    "print(f\" I have tried {counter} times until I win this game\")\n"
   ]
  },
  {
   "cell_type": "code",
   "execution_count": null,
   "metadata": {},
   "outputs": [],
   "source": []
  }
 ],
 "metadata": {
  "kernelspec": {
   "display_name": "Python 3",
   "language": "python",
   "name": "python3"
  },
  "language_info": {
   "codemirror_mode": {
    "name": "ipython",
    "version": 3
   },
   "file_extension": ".py",
   "mimetype": "text/x-python",
   "name": "python",
   "nbconvert_exporter": "python",
   "pygments_lexer": "ipython3",
   "version": "3.7.6"
  }
 },
 "nbformat": 4,
 "nbformat_minor": 4
}
